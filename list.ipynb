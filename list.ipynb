{
  "cells": [
    {
      "cell_type": "code",
      "execution_count": null,
      "metadata": {
        "id": "jFfps5PRu33u"
      },
      "outputs": [],
      "source": []
    },
    {
      "cell_type": "code",
      "source": [],
      "metadata": {
        "id": "ltRqhpeWDQMV"
      },
      "execution_count": null,
      "outputs": []
    },
    {
      "cell_type": "markdown",
      "metadata": {
        "id": "2-uriKJau5MZ"
      },
      "source": [
        "# List\n",
        "Data type in a ordered sequence,mutable(changeable), made up of one or two\n",
        "elements.\n",
        "\n",
        "Also contains other different data types like float,integers,string, tuple or even another list....\n",
        "\n",
        "Enclosed in a square bracket.\n",
        "\n",
        "\n",
        "List indices also start from 0.\n",
        "\n",
        "in list we use index of the element.like to access any element,\n"
      ]
    },
    {
      "cell_type": "code",
      "execution_count": null,
      "metadata": {
        "colab": {
          "base_uri": "https://localhost:8080/"
        },
        "id": "2KufQ2CEwkto",
        "outputId": "15a9389c-cab1-4465-87fd-0ba40144de9e"
      },
      "outputs": [
        {
          "name": "stdout",
          "output_type": "stream",
          "text": [
            "['hello sehrish', 34, 67.889]\n"
          ]
        }
      ],
      "source": [
        "list1 =[\"hello sehrish\", 34, 67.889]\n",
        "print(list1)"
      ]
    },
    {
      "cell_type": "markdown",
      "metadata": {
        "id": "5ZW8RrMpxK4N"
      },
      "source": [
        "# Accessing elements from the list:\n",
        "\n",
        "list[2]\n",
        "\n",
        "list[-1] output will be started from end\n",
        "\n",
        "list[n-1]\n",
        "\n",
        "list[-n] gives the first element"
      ]
    },
    {
      "cell_type": "code",
      "execution_count": null,
      "metadata": {
        "colab": {
          "base_uri": "https://localhost:8080/"
        },
        "id": "uD6GeDzUxD8i",
        "outputId": "4717c25a-cc8b-4a05-ded8-47ca639eefff"
      },
      "outputs": [
        {
          "data": {
            "text/plain": [
              "34"
            ]
          },
          "execution_count": 6,
          "metadata": {},
          "output_type": "execute_result"
        }
      ],
      "source": [
        "lis1 =[\"hello sehrish\", 34, 67.889]\n",
        "list1[1]\n"
      ]
    },
    {
      "cell_type": "code",
      "execution_count": null,
      "metadata": {
        "colab": {
          "base_uri": "https://localhost:8080/"
        },
        "id": "BQWB-TkYx8b9",
        "outputId": "28cf5546-1de9-4366-9e00-6f96d91c8c45"
      },
      "outputs": [
        {
          "data": {
            "text/plain": [
              "list[-1]"
            ]
          },
          "execution_count": 8,
          "metadata": {},
          "output_type": "execute_result"
        }
      ],
      "source": [
        "list[-1]"
      ]
    },
    {
      "cell_type": "markdown",
      "metadata": {
        "id": "5xzh9T3t03U4"
      },
      "source": [
        "# list operetion\n",
        "\n",
        "1:** concatenation**\n",
        "\n",
        "in concatetion we add lists.\n",
        "\n",
        "\"+\" is use to add two or more list\n",
        "\n",
        "lists must contain same type of data.\n",
        "\n",
        "\n",
        "2: **Repetition:**\n",
        "\n",
        "it helps to know the repetition of any element in a list.\n",
        "\n",
        "*  this operetion is used.\n",
        "\n",
        "**3: Membership**\n",
        "\n",
        "it describes the presence of element in the list.\n",
        "\n",
        "use \"in\" operetion\n",
        "\n",
        "the output will be true or false\n",
        "\n",
        "**4: Slicing**\n",
        "\n",
        "slicing means to cut a some part from whole list.\n",
        "\n",
        "we use : to saperete a small piece of information..\n",
        "\n",
        "Start:End:Index jumping\n",
        "\n",
        "A=['sehrish', 'zahid', 20, 28]\n",
        "\n",
        "A[start:stop] items start through stop -1\n",
        "\n",
        "A[start:] items start through the rest of the array\n",
        "\n",
        "A[:stop]  items from the beginning through stop -1\n",
        "\n",
        "A[:] whole array\n",
        "\n",
        "A[-2:]  from last -2 index to the end of the list\n",
        "\n",
        "A[:-2] index -2 sa list ki starting tak. like in reverse order,\n",
        "here, remember one thing that , -2 is the ending index here, now the output will be the one less the -2 index, means ek element kam print hoga,\n",
        "\n",
        "A[::-1] it means print all the elements in reverse order by one index jumping,\n",
        "if we ot -2 here then ,, all elements will bw printed by jumping 2 index and in reverse order,\n",
        "\n",
        "A[::] all the items\n",
        "\n",
        "A[::2]  print all the items by jumping two items,\n",
        "\n",
        "A[1::-1]  here - means print the items in reverse,, in this case it will print the items from 1 index to starting..\n",
        "\n",
        "A[:-3:-1]  iska matlab hain ki ab hum na -3 index sa agay jana hain or reverse order mai,,,  or value ek kam tak print hogiii ...\n",
        "\n",
        "A[-3::-1]  -3 sa start karna hain or list k starting index tak jana hain or reverse mai or by 1 index jumping sa,,"
      ]
    },
    {
      "cell_type": "markdown",
      "source": [
        "# concatenation"
      ],
      "metadata": {
        "id": "jm_mX-OTPZY4"
      }
    },
    {
      "cell_type": "code",
      "execution_count": null,
      "metadata": {
        "colab": {
          "background_save": true
        },
        "id": "9z5Khcr8zNxK",
        "outputId": "acf86473-cba6-492f-983e-654876faf56c"
      },
      "outputs": [
        {
          "name": "stdout",
          "output_type": "stream",
          "text": [
            "[1, 2, 3, 4, 4, 5, 3, 6, 3, 4, 55, 5, 3, 7, 8, 9]\n"
          ]
        }
      ],
      "source": [
        "list1=[1,2,3,4,4,5,3,6]\n",
        "list2=[3,4,55,5,3,7,8,9]\n",
        "result=list1+list2\n",
        "print(result)"
      ]
    },
    {
      "cell_type": "code",
      "execution_count": null,
      "metadata": {
        "id": "vAfeKf40-rZ9",
        "colab": {
          "base_uri": "https://localhost:8080/"
        },
        "outputId": "3be6679d-490b-4796-e748-33ad08c78270"
      },
      "outputs": [
        {
          "output_type": "stream",
          "name": "stdout",
          "text": [
            "sehrish zahid abbas \n"
          ]
        }
      ],
      "source": [
        "name1=\"sehrish \"\n",
        "name2=\"zahid abbas \"\n",
        "add=name1 + name2\n",
        "print(add)"
      ]
    },
    {
      "cell_type": "markdown",
      "source": [
        "# Repetition"
      ],
      "metadata": {
        "id": "0sYhlY5ePjTM"
      }
    },
    {
      "cell_type": "code",
      "source": [
        "add * 3"
      ],
      "metadata": {
        "colab": {
          "base_uri": "https://localhost:8080/",
          "height": 36
        },
        "id": "abLGPSi2PDRY",
        "outputId": "8dbe0055-c602-40a8-ce95-ad7e2ac0d19a"
      },
      "execution_count": null,
      "outputs": [
        {
          "output_type": "execute_result",
          "data": {
            "text/plain": [
              "'sehrish zahid abbas sehrish zahid abbas sehrish zahid abbas '"
            ],
            "application/vnd.google.colaboratory.intrinsic+json": {
              "type": "string"
            }
          },
          "metadata": {},
          "execution_count": 7
        }
      ]
    },
    {
      "cell_type": "markdown",
      "source": [
        "# Membership"
      ],
      "metadata": {
        "id": "ItV9uGKqQxnc"
      }
    },
    {
      "cell_type": "code",
      "source": [
        "'bano' in name1"
      ],
      "metadata": {
        "colab": {
          "base_uri": "https://localhost:8080/"
        },
        "id": "PXrB3aNwPwkS",
        "outputId": "7cb5ed91-4541-4d23-e9a5-3958a9d8dc8a"
      },
      "execution_count": null,
      "outputs": [
        {
          "output_type": "execute_result",
          "data": {
            "text/plain": [
              "False"
            ]
          },
          "metadata": {},
          "execution_count": 8
        }
      ]
    },
    {
      "cell_type": "code",
      "source": [
        "'zahid' in name2"
      ],
      "metadata": {
        "colab": {
          "base_uri": "https://localhost:8080/"
        },
        "id": "wZxS-p3RRG2_",
        "outputId": "3f36db1d-3cea-4ab9-c3d1-be848378b23b"
      },
      "execution_count": null,
      "outputs": [
        {
          "output_type": "execute_result",
          "data": {
            "text/plain": [
              "True"
            ]
          },
          "metadata": {},
          "execution_count": 9
        }
      ]
    },
    {
      "cell_type": "markdown",
      "source": [
        "# Slicing\n",
        "\n",
        "[start:end:index jumping]"
      ],
      "metadata": {
        "id": "w1PZHWs9Rb37"
      }
    },
    {
      "cell_type": "code",
      "source": [
        "a=[2,4,7,8,9,5,2,3,0,1,6]\n",
        "print(a)"
      ],
      "metadata": {
        "colab": {
          "base_uri": "https://localhost:8080/"
        },
        "id": "-DAEFW2LRNGG",
        "outputId": "55254c91-88db-4f58-ed99-f02b9bae6b95"
      },
      "execution_count": null,
      "outputs": [
        {
          "output_type": "stream",
          "name": "stdout",
          "text": [
            "[2, 4, 7, 8, 9, 5, 2, 3, 0, 1, 6]\n"
          ]
        }
      ]
    },
    {
      "cell_type": "code",
      "source": [
        "type(a)"
      ],
      "metadata": {
        "colab": {
          "base_uri": "https://localhost:8080/"
        },
        "id": "geoyrdFBSesD",
        "outputId": "1b25e7b8-3c19-4c15-cb05-dce81ae61a32"
      },
      "execution_count": null,
      "outputs": [
        {
          "output_type": "execute_result",
          "data": {
            "text/plain": [
              "list"
            ]
          },
          "metadata": {},
          "execution_count": 15
        }
      ]
    },
    {
      "cell_type": "markdown",
      "source": [
        "print from 7 to 0"
      ],
      "metadata": {
        "id": "k-b-PoGbSyWm"
      }
    },
    {
      "cell_type": "code",
      "source": [
        "a[2:9]"
      ],
      "metadata": {
        "colab": {
          "base_uri": "https://localhost:8080/"
        },
        "id": "wJuXUFb7Sjij",
        "outputId": "1d39c9aa-f30f-483d-8d45-f2073fdd8eb7"
      },
      "execution_count": null,
      "outputs": [
        {
          "output_type": "execute_result",
          "data": {
            "text/plain": [
              "[7, 8, 9, 5, 2, 3, 0]"
            ]
          },
          "metadata": {},
          "execution_count": 16
        }
      ]
    },
    {
      "cell_type": "markdown",
      "source": [
        "print all the item before 3"
      ],
      "metadata": {
        "id": "DpdQEIn5TeCE"
      }
    },
    {
      "cell_type": "code",
      "source": [
        "a[:8]"
      ],
      "metadata": {
        "colab": {
          "base_uri": "https://localhost:8080/"
        },
        "id": "N7VD322FTb4H",
        "outputId": "075bf287-b9ec-4731-ae6d-12b75d31d60c"
      },
      "execution_count": null,
      "outputs": [
        {
          "output_type": "execute_result",
          "data": {
            "text/plain": [
              "[2, 4, 7, 8, 9, 5, 2, 3]"
            ]
          },
          "metadata": {},
          "execution_count": 17
        }
      ]
    },
    {
      "cell_type": "code",
      "source": [
        "a[:-3]"
      ],
      "metadata": {
        "colab": {
          "base_uri": "https://localhost:8080/"
        },
        "id": "n6k9EsoBTyEL",
        "outputId": "3876d828-8f57-4f59-bcc0-949ff1e5a361"
      },
      "execution_count": null,
      "outputs": [
        {
          "output_type": "execute_result",
          "data": {
            "text/plain": [
              "[2, 4, 7, 8, 9, 5, 2, 3]"
            ]
          },
          "metadata": {},
          "execution_count": 18
        }
      ]
    },
    {
      "cell_type": "code",
      "source": [
        "a[:-3:1]"
      ],
      "metadata": {
        "colab": {
          "base_uri": "https://localhost:8080/"
        },
        "id": "Bv2tILEYT3De",
        "outputId": "333ed87f-c758-4e71-9651-79caa781ab1a"
      },
      "execution_count": null,
      "outputs": [
        {
          "output_type": "execute_result",
          "data": {
            "text/plain": [
              "[2, 4, 7, 8, 9, 5, 2, 3]"
            ]
          },
          "metadata": {},
          "execution_count": 19
        }
      ]
    },
    {
      "cell_type": "markdown",
      "source": [
        "all values in reverse order"
      ],
      "metadata": {
        "id": "zX8CJFEvUJ9i"
      }
    },
    {
      "cell_type": "code",
      "source": [
        "a[::-1]"
      ],
      "metadata": {
        "colab": {
          "base_uri": "https://localhost:8080/"
        },
        "id": "fAdIBOUsT_0v",
        "outputId": "af810199-edcd-4c81-fc4a-e22417e92e60"
      },
      "execution_count": null,
      "outputs": [
        {
          "output_type": "execute_result",
          "data": {
            "text/plain": [
              "[6, 1, 0, 3, 2, 5, 9, 8, 7, 4, 2]"
            ]
          },
          "metadata": {},
          "execution_count": 20
        }
      ]
    },
    {
      "cell_type": "markdown",
      "source": [
        "last 3 values\n"
      ],
      "metadata": {
        "id": "WA3t-R26UZ6n"
      }
    },
    {
      "cell_type": "code",
      "source": [
        "print(a)"
      ],
      "metadata": {
        "colab": {
          "base_uri": "https://localhost:8080/"
        },
        "id": "IIRIrE1hUVRw",
        "outputId": "cc4770ea-cf79-4ee1-80fe-96d8eb9d5fcb"
      },
      "execution_count": null,
      "outputs": [
        {
          "output_type": "stream",
          "name": "stdout",
          "text": [
            "[2, 4, 7, 8, 9, 5, 2, 3, 0, 1, 6]\n"
          ]
        }
      ]
    },
    {
      "cell_type": "code",
      "source": [
        "a[8::]"
      ],
      "metadata": {
        "colab": {
          "base_uri": "https://localhost:8080/"
        },
        "id": "S5-A_3pEUhbu",
        "outputId": "22b0ca84-1bd9-427e-cc77-7e3ddec7cc29"
      },
      "execution_count": null,
      "outputs": [
        {
          "output_type": "execute_result",
          "data": {
            "text/plain": [
              "[0, 1, 6]"
            ]
          },
          "metadata": {},
          "execution_count": 22
        }
      ]
    },
    {
      "cell_type": "code",
      "source": [
        "a[-3:]"
      ],
      "metadata": {
        "colab": {
          "base_uri": "https://localhost:8080/"
        },
        "id": "_A0RPdDJUxEL",
        "outputId": "0450a1c9-878b-41ad-fcca-7d52d1a55ad7"
      },
      "execution_count": null,
      "outputs": [
        {
          "output_type": "execute_result",
          "data": {
            "text/plain": [
              "[0, 1, 6]"
            ]
          },
          "metadata": {},
          "execution_count": 23
        }
      ]
    },
    {
      "cell_type": "code",
      "source": [
        "a[-3::1]"
      ],
      "metadata": {
        "colab": {
          "base_uri": "https://localhost:8080/"
        },
        "id": "WwLNQDzzU3jb",
        "outputId": "d5c04696-c325-45c3-aca3-298b369e9f97"
      },
      "execution_count": null,
      "outputs": [
        {
          "output_type": "execute_result",
          "data": {
            "text/plain": [
              "[0, 1, 6]"
            ]
          },
          "metadata": {},
          "execution_count": 24
        }
      ]
    },
    {
      "cell_type": "code",
      "source": [],
      "metadata": {
        "id": "vqbB5n5YU9GY"
      },
      "execution_count": null,
      "outputs": []
    },
    {
      "cell_type": "markdown",
      "source": [
        "**# BUILT_IN_FUNCTIONS ON LIST**\n",
        "\n",
        "len()  len(list)\n",
        "\n",
        "list() list1=list()\n",
        "       list1\n",
        "\n",
        "**append()**   it is used to add one element or one more list in a list.\n",
        "           list.append(8)\n",
        "           list.append([4,5])\n",
        "\n",
        "**extend()**if we want to add a new list in the previous one.\n",
        "          list1=[]\n",
        "          list2=[]\n",
        "          list1.extend(list2)\n",
        "\n",
        "**insert()**  if we want to insert any element or a new list at a particular   \n",
        "         index.\n",
        "         list.insert(9,5)\n",
        "         9 is index and 5 is the element we want to add\n",
        "\n",
        "**count()**   count the repetition of any element.\n",
        "              list.count(2)\n",
        "\n",
        "              in list we mention the element that we want to count\n",
        "\n",
        "**index**      to indicate the position of any element. if the element is present more than one time then the output will be of the first occurance of the element.\n",
        "\n",
        "\n",
        "       list.index(8)\n",
        "       index will be written here\n",
        "\n",
        "**remove() **    remove the given element from the list. we passed the element the that we want to remove.\n",
        "if the element is repeated in the list then remove will remove  the all the repeated element passed as parameter in the function element that will mention in the bracket, like\n",
        "\n",
        "list.remove(2)  if two is twice times in the list then the first 2 is remove from the list ...\n",
        "\n",
        "**pop**  returns the element whose index is passed as the parameter to this function. if no parameter is given last element is removed from the list..we pass the index of that element\n",
        "\n",
        "list.pop(3)  3 is index here right.\n",
        "\n",
        "**reverse**  reverse the order of the list.\n",
        "\n",
        "list.reverse()\n",
        "\n",
        "**sort()**  arrange the list in ascending order.\n",
        "list.sort()\n",
        "\n",
        "**sorted()**  arrange the list in ascending order and stored in a new list.\n",
        "list2=sorted(list1)\n",
        "\n",
        "**max()** print the max element in the list\n",
        "\n",
        "**min()** min element in the list\n",
        "\n",
        "**sum() ** sum all the elements"
      ],
      "metadata": {
        "id": "fkE5ulUrVakE"
      }
    },
    {
      "cell_type": "code",
      "source": [
        "len(a)"
      ],
      "metadata": {
        "colab": {
          "base_uri": "https://localhost:8080/"
        },
        "id": "5Fjzse6nh1fO",
        "outputId": "77dc2514-d211-4dfb-979e-ef272d79bcb1"
      },
      "execution_count": null,
      "outputs": [
        {
          "output_type": "execute_result",
          "data": {
            "text/plain": [
              "11"
            ]
          },
          "metadata": {},
          "execution_count": 28
        }
      ]
    },
    {
      "cell_type": "code",
      "source": [
        "a.append(12)"
      ],
      "metadata": {
        "id": "6O7MNpq6iE0Y"
      },
      "execution_count": null,
      "outputs": []
    },
    {
      "cell_type": "code",
      "source": [
        "print(a)"
      ],
      "metadata": {
        "colab": {
          "base_uri": "https://localhost:8080/"
        },
        "id": "fLQ_yHJmiJyK",
        "outputId": "5344a727-0136-452f-e93c-9057e1535412"
      },
      "execution_count": null,
      "outputs": [
        {
          "output_type": "stream",
          "name": "stdout",
          "text": [
            "[2, 4, 7, 8, 9, 5, 2, 3, 0, 1, 6, 12]\n"
          ]
        }
      ]
    },
    {
      "cell_type": "code",
      "source": [
        "\n",
        "b=[11,13,14]\n",
        "a.extend(b)\n",
        "print(a)\n",
        "\n"
      ],
      "metadata": {
        "colab": {
          "base_uri": "https://localhost:8080/"
        },
        "id": "sMuys6tFiNC7",
        "outputId": "d3863b17-1dc0-494e-e420-cf2dd483e16a"
      },
      "execution_count": null,
      "outputs": [
        {
          "output_type": "stream",
          "name": "stdout",
          "text": [
            "[2, 4, 7, 8, 9, 5, 2, 3, 0, 1, 6, 12, 11, 13, 14, 11, 13, 14]\n"
          ]
        }
      ]
    },
    {
      "cell_type": "code",
      "source": [
        "a=list()\n",
        "print(a)"
      ],
      "metadata": {
        "colab": {
          "base_uri": "https://localhost:8080/"
        },
        "id": "WaQ4DaK3ice4",
        "outputId": "273b29f5-7be6-435b-b0a8-ea561cddbb93"
      },
      "execution_count": null,
      "outputs": [
        {
          "output_type": "stream",
          "name": "stdout",
          "text": [
            "[]\n"
          ]
        }
      ]
    },
    {
      "cell_type": "code",
      "source": [
        "a"
      ],
      "metadata": {
        "colab": {
          "base_uri": "https://localhost:8080/"
        },
        "id": "X-b-GCPgjm9Q",
        "outputId": "73a3fc51-b329-47a0-f8de-6b4cabac7375"
      },
      "execution_count": null,
      "outputs": [
        {
          "output_type": "execute_result",
          "data": {
            "text/plain": [
              "[15, 15, 15, 15]"
            ]
          },
          "metadata": {},
          "execution_count": 46
        }
      ]
    },
    {
      "cell_type": "code",
      "source": [
        "a"
      ],
      "metadata": {
        "colab": {
          "base_uri": "https://localhost:8080/"
        },
        "id": "cOxD1pv1kNNL",
        "outputId": "a0ce89cd-ce98-45f7-8568-19ec260161a4"
      },
      "execution_count": null,
      "outputs": [
        {
          "output_type": "execute_result",
          "data": {
            "text/plain": [
              "[15, 15, 15, 15]"
            ]
          },
          "metadata": {},
          "execution_count": 48
        }
      ]
    },
    {
      "cell_type": "code",
      "source": [
        "a=[2,3,4,5,6,8,9,6,4,3,22,]\n",
        "print(a)"
      ],
      "metadata": {
        "colab": {
          "base_uri": "https://localhost:8080/"
        },
        "id": "CDdV36K7ki8S",
        "outputId": "3d1e092c-48c8-4dcf-a59e-c5ffa5111d59"
      },
      "execution_count": null,
      "outputs": [
        {
          "output_type": "stream",
          "name": "stdout",
          "text": [
            "[2, 3, 4, 5, 6, 8, 9, 6, 4, 3, 22]\n"
          ]
        }
      ]
    },
    {
      "cell_type": "code",
      "source": [
        "a.insert(1,4)\n",
        "print(a)"
      ],
      "metadata": {
        "colab": {
          "base_uri": "https://localhost:8080/"
        },
        "id": "JsbypPBWko2C",
        "outputId": "d13b5b29-18e8-49be-aad5-00eb08e1db1f"
      },
      "execution_count": null,
      "outputs": [
        {
          "output_type": "stream",
          "name": "stdout",
          "text": [
            "[2, 4, 3, 4, 5, 6, 8, 9, 6, 4, 3, 22]\n"
          ]
        }
      ]
    },
    {
      "cell_type": "code",
      "source": [
        "a.count(4)"
      ],
      "metadata": {
        "colab": {
          "base_uri": "https://localhost:8080/"
        },
        "id": "anWBjS0Rkxgf",
        "outputId": "bf4b53b4-497f-4e2f-d434-c638ba24eac9"
      },
      "execution_count": null,
      "outputs": [
        {
          "output_type": "execute_result",
          "data": {
            "text/plain": [
              "3"
            ]
          },
          "metadata": {},
          "execution_count": 51
        }
      ]
    },
    {
      "cell_type": "code",
      "source": [
        "a.index(5)"
      ],
      "metadata": {
        "colab": {
          "base_uri": "https://localhost:8080/"
        },
        "id": "6zFMNzbXk8E_",
        "outputId": "36ddef58-854a-4546-aa69-81e9c02c6d4d"
      },
      "execution_count": null,
      "outputs": [
        {
          "output_type": "execute_result",
          "data": {
            "text/plain": [
              "4"
            ]
          },
          "metadata": {},
          "execution_count": 52
        }
      ]
    },
    {
      "cell_type": "code",
      "source": [
        "a.remove(6)\n",
        "print(a)"
      ],
      "metadata": {
        "colab": {
          "base_uri": "https://localhost:8080/"
        },
        "id": "IwkS3KLzk2qh",
        "outputId": "0648796b-cbd8-447d-b7a1-ddb696af749b"
      },
      "execution_count": null,
      "outputs": [
        {
          "output_type": "stream",
          "name": "stdout",
          "text": [
            "[2, 4, 3, 4, 5, 8, 9, 4, 3, 22]\n"
          ]
        }
      ]
    },
    {
      "cell_type": "code",
      "source": [
        "a.pop(1)\n"
      ],
      "metadata": {
        "colab": {
          "base_uri": "https://localhost:8080/"
        },
        "id": "0N154bs9lC6I",
        "outputId": "f89b988f-b690-45df-94c9-d94b9f6c3deb"
      },
      "execution_count": null,
      "outputs": [
        {
          "output_type": "execute_result",
          "data": {
            "text/plain": [
              "4"
            ]
          },
          "metadata": {},
          "execution_count": 55
        }
      ]
    },
    {
      "cell_type": "code",
      "source": [
        "print(a)"
      ],
      "metadata": {
        "colab": {
          "base_uri": "https://localhost:8080/"
        },
        "id": "_Iyp7ikPlhSQ",
        "outputId": "41757a6c-720f-47c9-8249-cbf64f318a28"
      },
      "execution_count": null,
      "outputs": [
        {
          "output_type": "stream",
          "name": "stdout",
          "text": [
            "[2, 3, 4, 5, 8, 9, 4, 3, 22]\n"
          ]
        }
      ]
    },
    {
      "cell_type": "code",
      "source": [
        "a.reverse()\n",
        "print(a)"
      ],
      "metadata": {
        "colab": {
          "base_uri": "https://localhost:8080/"
        },
        "id": "G92J-ZmpljNG",
        "outputId": "adc7857b-f2d2-42b0-d3e7-d6c62ef3e737"
      },
      "execution_count": null,
      "outputs": [
        {
          "output_type": "stream",
          "name": "stdout",
          "text": [
            "[22, 3, 4, 9, 8, 5, 4, 3, 2]\n"
          ]
        }
      ]
    },
    {
      "cell_type": "code",
      "source": [
        "max(a)"
      ],
      "metadata": {
        "colab": {
          "base_uri": "https://localhost:8080/"
        },
        "id": "AOZfxXVhlpyy",
        "outputId": "9bd3aeb1-0e2d-4b8c-f913-f5fc24e6c0f7"
      },
      "execution_count": null,
      "outputs": [
        {
          "output_type": "execute_result",
          "data": {
            "text/plain": [
              "22"
            ]
          },
          "metadata": {},
          "execution_count": 64
        }
      ]
    },
    {
      "cell_type": "code",
      "source": [
        "min(a)"
      ],
      "metadata": {
        "colab": {
          "base_uri": "https://localhost:8080/"
        },
        "id": "wtJiJPbdl2ou",
        "outputId": "334febbe-4b6f-4d74-a54a-7cf17a4d4fc0"
      },
      "execution_count": null,
      "outputs": [
        {
          "output_type": "execute_result",
          "data": {
            "text/plain": [
              "2"
            ]
          },
          "metadata": {},
          "execution_count": 65
        }
      ]
    },
    {
      "cell_type": "code",
      "source": [
        "sum(a)"
      ],
      "metadata": {
        "colab": {
          "base_uri": "https://localhost:8080/"
        },
        "id": "izjawvgUmH71",
        "outputId": "fbe389ed-4136-4402-e65c-b24414c19171"
      },
      "execution_count": null,
      "outputs": [
        {
          "output_type": "execute_result",
          "data": {
            "text/plain": [
              "60"
            ]
          },
          "metadata": {},
          "execution_count": 66
        }
      ]
    },
    {
      "cell_type": "code",
      "source": [
        "a.sort()"
      ],
      "metadata": {
        "id": "smW7KAimmJ_G"
      },
      "execution_count": null,
      "outputs": []
    },
    {
      "cell_type": "code",
      "source": [
        "print(a)"
      ],
      "metadata": {
        "id": "KVXQPu3smNRf",
        "outputId": "18686bde-1e71-4831-efc0-bc6800680d38",
        "colab": {
          "base_uri": "https://localhost:8080/"
        }
      },
      "execution_count": null,
      "outputs": [
        {
          "output_type": "stream",
          "name": "stdout",
          "text": [
            "[2, 3, 3, 4, 4, 5, 8, 9, 22]\n"
          ]
        }
      ]
    },
    {
      "cell_type": "code",
      "source": [],
      "metadata": {
        "id": "AkbYt-cjmPHU"
      },
      "execution_count": null,
      "outputs": []
    }
  ],
  "metadata": {
    "colab": {
      "provenance": []
    },
    "kernelspec": {
      "display_name": "Python 3",
      "name": "python3"
    },
    "language_info": {
      "name": "python"
    }
  },
  "nbformat": 4,
  "nbformat_minor": 0
}